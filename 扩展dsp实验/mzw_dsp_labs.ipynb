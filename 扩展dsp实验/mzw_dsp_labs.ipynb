{
 "cells": [
  {
   "cell_type": "code",
   "execution_count": 33,
   "metadata": {},
   "outputs": [],
   "source": [
    "import numpy as np\n",
    "from collections.abc import Sequence"
   ]
  },
  {
   "cell_type": "code",
   "execution_count": 34,
   "metadata": {},
   "outputs": [
    {
     "name": "stdout",
     "output_type": "stream",
     "text": [
      "[[ 5. 15.]\n",
      " [ 1. 13.]\n",
      " [ 5. 22.]\n",
      " [ 4. 23.]\n",
      " [ 0. 13.]\n",
      " [ 2. 10.]\n",
      " [ 1.  7.]\n",
      " [ 6. 22.]\n",
      " [ 1. 16.]\n",
      " [ 2. 14.]]\n"
     ]
    }
   ],
   "source": [
    "# 直接加权滑动平均  weighted moving average\n",
    "def direct_wma(x : Sequence, b : Sequence) -> Sequence:\n",
    "    y = np.zeros(len(x))\n",
    "    b_rev = np.array(b[::-1])\n",
    "    x_pad = np.concatenate((np.zeros(len(b)-1), x))\n",
    "    for i in range(len(x)):\n",
    "        y[i] = np.dot(b_rev, x_pad[i:i+len(b)])\n",
    "    return y\n",
    "\n",
    "b = [3,2,1]\n",
    "x = np.random.randint(0,10,size=10)\n",
    "y = direct_wma(x,b)\n",
    "print(np.array([x,y]).T)"
   ]
  }
 ],
 "metadata": {
  "kernelspec": {
   "display_name": "Python 3.7.13 ('base')",
   "language": "python",
   "name": "python3"
  },
  "language_info": {
   "codemirror_mode": {
    "name": "ipython",
    "version": 3
   },
   "file_extension": ".py",
   "mimetype": "text/x-python",
   "name": "python",
   "nbconvert_exporter": "python",
   "pygments_lexer": "ipython3",
   "version": "3.7.13"
  },
  "orig_nbformat": 4,
  "vscode": {
   "interpreter": {
    "hash": "a0f669ea42a4dcea88d385f8f9b4c3d9b966e24234758831d1dbfdac925619a2"
   }
  }
 },
 "nbformat": 4,
 "nbformat_minor": 2
}
